{
 "cells": [
  {
   "cell_type": "markdown",
   "metadata": {},
   "source": [
    "# 1. Import Libraries and Datasets"
   ]
  },
  {
   "cell_type": "code",
   "execution_count": 1,
   "metadata": {},
   "outputs": [],
   "source": [
    "# Import libraries\n",
    "import pandas as pd\n",
    "import os\n",
    "from tqdm import tqdm\n",
    "import numpy as np\n",
    "import matplotlib.pyplot as plt\n",
    "import seaborn as sns\n",
    "from IPython.display import Markdown\n",
    "from sklearn.model_selection import train_test_split"
   ]
  },
  {
   "cell_type": "code",
   "execution_count": 2,
   "metadata": {},
   "outputs": [],
   "source": [
    "# only use the train series and train events dataset in the kaggle competition\n",
    "df_train_series = pd.read_parquet('train_series.parquet')\n",
    "df_train_events = pd.read_csv('train_events.csv')"
   ]
  },
  {
   "cell_type": "markdown",
   "metadata": {},
   "source": [
    "# 2. Data Preprocessing"
   ]
  },
  {
   "attachments": {},
   "cell_type": "markdown",
   "metadata": {},
   "source": [
    "## 2.1 Showcase the basic information of datasets"
   ]
  },
  {
   "cell_type": "code",
   "execution_count": 3,
   "metadata": {},
   "outputs": [
    {
     "name": "stdout",
     "output_type": "stream",
     "text": [
      "<class 'pandas.core.frame.DataFrame'>\n",
      "RangeIndex: 127946340 entries, 0 to 127946339\n",
      "Data columns (total 5 columns):\n",
      " #   Column     Dtype  \n",
      "---  ------     -----  \n",
      " 0   series_id  object \n",
      " 1   step       uint32 \n",
      " 2   timestamp  object \n",
      " 3   anglez     float32\n",
      " 4   enmo       float32\n",
      "dtypes: float32(2), object(2), uint32(1)\n",
      "memory usage: 3.3+ GB\n"
     ]
    }
   ],
   "source": [
    "df_train_series.info()"
   ]
  },
  {
   "cell_type": "code",
   "execution_count": 7,
   "metadata": {},
   "outputs": [
    {
     "data": {
      "text/plain": [
       "277"
      ]
     },
     "execution_count": 7,
     "metadata": {},
     "output_type": "execute_result"
    }
   ],
   "source": [
    "df_train_series['series_id'].nunique()"
   ]
  },
  {
   "cell_type": "code",
   "execution_count": 4,
   "metadata": {},
   "outputs": [
    {
     "name": "stdout",
     "output_type": "stream",
     "text": [
      "<class 'pandas.core.frame.DataFrame'>\n",
      "RangeIndex: 14508 entries, 0 to 14507\n",
      "Data columns (total 5 columns):\n",
      " #   Column     Non-Null Count  Dtype  \n",
      "---  ------     --------------  -----  \n",
      " 0   series_id  14508 non-null  object \n",
      " 1   night      14508 non-null  int64  \n",
      " 2   event      14508 non-null  object \n",
      " 3   step       9585 non-null   float64\n",
      " 4   timestamp  9585 non-null   object \n",
      "dtypes: float64(1), int64(1), object(3)\n",
      "memory usage: 566.8+ KB\n"
     ]
    }
   ],
   "source": [
    "df_train_events.info()"
   ]
  },
  {
   "cell_type": "markdown",
   "metadata": {},
   "source": [
    "From the information shown above, we can see that the datasets are very huge and occupy a lot of memory space, which may cause large RAM requirement during the implementation. Therefore, our first step is to reduce the memory."
   ]
  },
  {
   "cell_type": "markdown",
   "metadata": {},
   "source": [
    "## 2.2 Reduce the Size of Datasets"
   ]
  },
  {
   "cell_type": "markdown",
   "metadata": {},
   "source": [
    "### 2.2.1 Reduce the Memory Usage by reducing rows"
   ]
  },
  {
   "cell_type": "code",
   "execution_count": 5,
   "metadata": {},
   "outputs": [],
   "source": [
    "new_series = df_train_series.copy()\n",
    "new_events = df_train_events.copy()"
   ]
  },
  {
   "cell_type": "code",
   "execution_count": 6,
   "metadata": {},
   "outputs": [
    {
     "data": {
      "text/plain": [
       "37"
      ]
     },
     "execution_count": 6,
     "metadata": {},
     "output_type": "execute_result"
    }
   ],
   "source": [
    "# see JustDeleteNanLine.ipynb figure 1 to understand why we need this step\n",
    "# delete those series_id that have NaN values\n",
    "# Group the series_id and check the step column of each group for NaN values\n",
    "fully_coverage_series_ids = new_events.groupby('series_id').apply(lambda x: x['step'].isnull().sum() == 0)\n",
    "\n",
    "# only choose those series_id that have no NaN values\n",
    "fully_coverage_series_ids = fully_coverage_series_ids.index[fully_coverage_series_ids].tolist()\n",
    "\n",
    "len(fully_coverage_series_ids)"
   ]
  },
  {
   "cell_type": "code",
   "execution_count": 7,
   "metadata": {},
   "outputs": [],
   "source": [
    "# Filter train_series to keep only the series_id present in fully_coverage_series_ids\n",
    "new_series = new_series[new_series['series_id'].isin(fully_coverage_series_ids)]"
   ]
  },
  {
   "cell_type": "code",
   "execution_count": 8,
   "metadata": {},
   "outputs": [
    {
     "name": "stdout",
     "output_type": "stream",
     "text": [
      "<class 'pandas.core.frame.DataFrame'>\n",
      "Int64Index: 14334840 entries, 3770820 to 103353659\n",
      "Data columns (total 5 columns):\n",
      " #   Column     Dtype  \n",
      "---  ------     -----  \n",
      " 0   series_id  object \n",
      " 1   step       uint32 \n",
      " 2   timestamp  object \n",
      " 3   anglez     float32\n",
      " 4   enmo       float32\n",
      "dtypes: float32(2), object(2), uint32(1)\n",
      "memory usage: 492.1+ MB\n"
     ]
    }
   ],
   "source": [
    "new_series.info()"
   ]
  },
  {
   "cell_type": "code",
   "execution_count": 9,
   "metadata": {},
   "outputs": [],
   "source": [
    "# Select the series_id in the train_events file in fully_coverage_series_ids\n",
    "new_events = new_events[new_events['series_id'].isin(fully_coverage_series_ids)]"
   ]
  },
  {
   "cell_type": "code",
   "execution_count": 10,
   "metadata": {},
   "outputs": [
    {
     "name": "stdout",
     "output_type": "stream",
     "text": [
      "<class 'pandas.core.frame.DataFrame'>\n",
      "Int64Index: 1562 entries, 398 to 11677\n",
      "Data columns (total 5 columns):\n",
      " #   Column     Non-Null Count  Dtype  \n",
      "---  ------     --------------  -----  \n",
      " 0   series_id  1562 non-null   object \n",
      " 1   night      1562 non-null   int64  \n",
      " 2   event      1562 non-null   object \n",
      " 3   step       1562 non-null   float64\n",
      " 4   timestamp  1562 non-null   object \n",
      "dtypes: float64(1), int64(1), object(3)\n",
      "memory usage: 73.2+ KB\n"
     ]
    }
   ],
   "source": [
    "new_events.info()"
   ]
  },
  {
   "cell_type": "markdown",
   "metadata": {},
   "source": [
    "By now, we can see that we've decreased the train_series from 3.3 GB to 492.1 MB, and the train_events from 566.8 KB to 73.2 KB. Next, we will try to further reducing the datasets by changing the data types."
   ]
  },
  {
   "cell_type": "markdown",
   "metadata": {},
   "source": [
    "### 2.2.2 Further Reducing the dataset by changing the data types"
   ]
  },
  {
   "cell_type": "markdown",
   "metadata": {},
   "source": [
    "First, we map the unique 37 values of series_id from the original values to 0-36, and then we change the datatype from object to uint8, which will decrease the memory usage."
   ]
  },
  {
   "cell_type": "code",
   "execution_count": 11,
   "metadata": {},
   "outputs": [],
   "source": [
    "# create the mapping from series_id to new id from 0 to 36\n",
    "unique_series_ids = new_series['series_id'].unique()\n",
    "id_mapping = {old_id: new_id for new_id, old_id in enumerate(unique_series_ids)}\n",
    "\n",
    "# map the series_id to new id\n",
    "new_series['series_id'] = new_series['series_id'].map(id_mapping)\n",
    "\n",
    "# change data type to uint8 to save memory\n",
    "new_series['series_id'] = new_series['series_id'].astype('uint8')"
   ]
  },
  {
   "cell_type": "code",
   "execution_count": 12,
   "metadata": {},
   "outputs": [
    {
     "data": {
      "text/html": [
       "<div>\n",
       "<style scoped>\n",
       "    .dataframe tbody tr th:only-of-type {\n",
       "        vertical-align: middle;\n",
       "    }\n",
       "\n",
       "    .dataframe tbody tr th {\n",
       "        vertical-align: top;\n",
       "    }\n",
       "\n",
       "    .dataframe thead th {\n",
       "        text-align: right;\n",
       "    }\n",
       "</style>\n",
       "<table border=\"1\" class=\"dataframe\">\n",
       "  <thead>\n",
       "    <tr style=\"text-align: right;\">\n",
       "      <th></th>\n",
       "      <th>series_id</th>\n",
       "      <th>step</th>\n",
       "      <th>timestamp</th>\n",
       "      <th>anglez</th>\n",
       "      <th>enmo</th>\n",
       "    </tr>\n",
       "  </thead>\n",
       "  <tbody>\n",
       "    <tr>\n",
       "      <th>3770820</th>\n",
       "      <td>0</td>\n",
       "      <td>0</td>\n",
       "      <td>2018-11-05T10:00:00-0400</td>\n",
       "      <td>-30.845301</td>\n",
       "      <td>0.0447</td>\n",
       "    </tr>\n",
       "    <tr>\n",
       "      <th>3770821</th>\n",
       "      <td>0</td>\n",
       "      <td>1</td>\n",
       "      <td>2018-11-05T10:00:05-0400</td>\n",
       "      <td>-34.181801</td>\n",
       "      <td>0.0443</td>\n",
       "    </tr>\n",
       "    <tr>\n",
       "      <th>3770822</th>\n",
       "      <td>0</td>\n",
       "      <td>2</td>\n",
       "      <td>2018-11-05T10:00:10-0400</td>\n",
       "      <td>-33.877102</td>\n",
       "      <td>0.0483</td>\n",
       "    </tr>\n",
       "    <tr>\n",
       "      <th>3770823</th>\n",
       "      <td>0</td>\n",
       "      <td>3</td>\n",
       "      <td>2018-11-05T10:00:15-0400</td>\n",
       "      <td>-34.282101</td>\n",
       "      <td>0.0680</td>\n",
       "    </tr>\n",
       "    <tr>\n",
       "      <th>3770824</th>\n",
       "      <td>0</td>\n",
       "      <td>4</td>\n",
       "      <td>2018-11-05T10:00:20-0400</td>\n",
       "      <td>-34.385799</td>\n",
       "      <td>0.0768</td>\n",
       "    </tr>\n",
       "  </tbody>\n",
       "</table>\n",
       "</div>"
      ],
      "text/plain": [
       "         series_id  step                 timestamp     anglez    enmo\n",
       "3770820          0     0  2018-11-05T10:00:00-0400 -30.845301  0.0447\n",
       "3770821          0     1  2018-11-05T10:00:05-0400 -34.181801  0.0443\n",
       "3770822          0     2  2018-11-05T10:00:10-0400 -33.877102  0.0483\n",
       "3770823          0     3  2018-11-05T10:00:15-0400 -34.282101  0.0680\n",
       "3770824          0     4  2018-11-05T10:00:20-0400 -34.385799  0.0768"
      ]
     },
     "execution_count": 12,
     "metadata": {},
     "output_type": "execute_result"
    }
   ],
   "source": [
    "new_series.head()"
   ]
  },
  {
   "cell_type": "code",
   "execution_count": 13,
   "metadata": {},
   "outputs": [
    {
     "name": "stderr",
     "output_type": "stream",
     "text": [
      "100%|██████████| 14334840/14334840 [14:13<00:00, 16797.69it/s]\n"
     ]
    }
   ],
   "source": [
    "tqdm.pandas()\n",
    "\n",
    "# convert timestamp to datetime and show the progress bar using tqdm\n",
    "new_series['timestamp'] = new_series['timestamp'].progress_apply(pd.to_datetime)"
   ]
  },
  {
   "cell_type": "code",
   "execution_count": 14,
   "metadata": {},
   "outputs": [],
   "source": [
    "# Apply mapping to update series_id in df_train_events\n",
    "new_events['series_id'] = new_events['series_id'].map(id_mapping)\n",
    "\n",
    "# Convert the data type of series_id to uint8\n",
    "new_events['series_id'] = new_events['series_id'].astype('uint8')\n"
   ]
  },
  {
   "cell_type": "code",
   "execution_count": 15,
   "metadata": {},
   "outputs": [
    {
     "data": {
      "text/html": [
       "<div>\n",
       "<style scoped>\n",
       "    .dataframe tbody tr th:only-of-type {\n",
       "        vertical-align: middle;\n",
       "    }\n",
       "\n",
       "    .dataframe tbody tr th {\n",
       "        vertical-align: top;\n",
       "    }\n",
       "\n",
       "    .dataframe thead th {\n",
       "        text-align: right;\n",
       "    }\n",
       "</style>\n",
       "<table border=\"1\" class=\"dataframe\">\n",
       "  <thead>\n",
       "    <tr style=\"text-align: right;\">\n",
       "      <th></th>\n",
       "      <th>series_id</th>\n",
       "      <th>night</th>\n",
       "      <th>event</th>\n",
       "      <th>step</th>\n",
       "      <th>timestamp</th>\n",
       "    </tr>\n",
       "  </thead>\n",
       "  <tbody>\n",
       "    <tr>\n",
       "      <th>398</th>\n",
       "      <td>0</td>\n",
       "      <td>1</td>\n",
       "      <td>onset</td>\n",
       "      <td>11988.0</td>\n",
       "      <td>2018-11-06T02:39:00-0400</td>\n",
       "    </tr>\n",
       "    <tr>\n",
       "      <th>399</th>\n",
       "      <td>0</td>\n",
       "      <td>1</td>\n",
       "      <td>wakeup</td>\n",
       "      <td>14388.0</td>\n",
       "      <td>2018-11-06T05:59:00-0400</td>\n",
       "    </tr>\n",
       "    <tr>\n",
       "      <th>400</th>\n",
       "      <td>0</td>\n",
       "      <td>2</td>\n",
       "      <td>onset</td>\n",
       "      <td>28680.0</td>\n",
       "      <td>2018-11-07T01:50:00-0400</td>\n",
       "    </tr>\n",
       "    <tr>\n",
       "      <th>401</th>\n",
       "      <td>0</td>\n",
       "      <td>2</td>\n",
       "      <td>wakeup</td>\n",
       "      <td>31320.0</td>\n",
       "      <td>2018-11-07T05:30:00-0400</td>\n",
       "    </tr>\n",
       "    <tr>\n",
       "      <th>402</th>\n",
       "      <td>0</td>\n",
       "      <td>3</td>\n",
       "      <td>onset</td>\n",
       "      <td>44184.0</td>\n",
       "      <td>2018-11-07T23:22:00-0400</td>\n",
       "    </tr>\n",
       "  </tbody>\n",
       "</table>\n",
       "</div>"
      ],
      "text/plain": [
       "     series_id  night   event     step                 timestamp\n",
       "398          0      1   onset  11988.0  2018-11-06T02:39:00-0400\n",
       "399          0      1  wakeup  14388.0  2018-11-06T05:59:00-0400\n",
       "400          0      2   onset  28680.0  2018-11-07T01:50:00-0400\n",
       "401          0      2  wakeup  31320.0  2018-11-07T05:30:00-0400\n",
       "402          0      3   onset  44184.0  2018-11-07T23:22:00-0400"
      ]
     },
     "execution_count": 15,
     "metadata": {},
     "output_type": "execute_result"
    }
   ],
   "source": [
    "new_events.head()"
   ]
  },
  {
   "cell_type": "code",
   "execution_count": 16,
   "metadata": {},
   "outputs": [],
   "source": [
    "tqdm.pandas()\n",
    "\n",
    "# convert datatype \n",
    "# using one-hot encoding to convert the event column to 0(onset) and 1(wakeup)\n",
    "new_events['night'] = new_events['night'].astype(np.uint16)\n",
    "new_events['event'] = new_events['event'].replace({'onset':'0', 'wakeup':'1'}).astype(np.uint8)\n",
    "new_events['step'] = new_events['step'].astype(np.uint32)"
   ]
  },
  {
   "cell_type": "code",
   "execution_count": 17,
   "metadata": {},
   "outputs": [],
   "source": [
    "# save to csv file\n",
    "new_events.to_csv('new_events.csv', index=False)"
   ]
  },
  {
   "cell_type": "code",
   "execution_count": 18,
   "metadata": {},
   "outputs": [
    {
     "data": {
      "text/html": [
       "<div>\n",
       "<style scoped>\n",
       "    .dataframe tbody tr th:only-of-type {\n",
       "        vertical-align: middle;\n",
       "    }\n",
       "\n",
       "    .dataframe tbody tr th {\n",
       "        vertical-align: top;\n",
       "    }\n",
       "\n",
       "    .dataframe thead th {\n",
       "        text-align: right;\n",
       "    }\n",
       "</style>\n",
       "<table border=\"1\" class=\"dataframe\">\n",
       "  <thead>\n",
       "    <tr style=\"text-align: right;\">\n",
       "      <th></th>\n",
       "      <th>series_id</th>\n",
       "      <th>night</th>\n",
       "      <th>event</th>\n",
       "      <th>step</th>\n",
       "      <th>timestamp</th>\n",
       "    </tr>\n",
       "  </thead>\n",
       "  <tbody>\n",
       "    <tr>\n",
       "      <th>398</th>\n",
       "      <td>0</td>\n",
       "      <td>1</td>\n",
       "      <td>0</td>\n",
       "      <td>11988</td>\n",
       "      <td>2018-11-06T02:39:00-0400</td>\n",
       "    </tr>\n",
       "    <tr>\n",
       "      <th>399</th>\n",
       "      <td>0</td>\n",
       "      <td>1</td>\n",
       "      <td>1</td>\n",
       "      <td>14388</td>\n",
       "      <td>2018-11-06T05:59:00-0400</td>\n",
       "    </tr>\n",
       "    <tr>\n",
       "      <th>400</th>\n",
       "      <td>0</td>\n",
       "      <td>2</td>\n",
       "      <td>0</td>\n",
       "      <td>28680</td>\n",
       "      <td>2018-11-07T01:50:00-0400</td>\n",
       "    </tr>\n",
       "    <tr>\n",
       "      <th>401</th>\n",
       "      <td>0</td>\n",
       "      <td>2</td>\n",
       "      <td>1</td>\n",
       "      <td>31320</td>\n",
       "      <td>2018-11-07T05:30:00-0400</td>\n",
       "    </tr>\n",
       "    <tr>\n",
       "      <th>402</th>\n",
       "      <td>0</td>\n",
       "      <td>3</td>\n",
       "      <td>0</td>\n",
       "      <td>44184</td>\n",
       "      <td>2018-11-07T23:22:00-0400</td>\n",
       "    </tr>\n",
       "  </tbody>\n",
       "</table>\n",
       "</div>"
      ],
      "text/plain": [
       "     series_id  night  event   step                 timestamp\n",
       "398          0      1      0  11988  2018-11-06T02:39:00-0400\n",
       "399          0      1      1  14388  2018-11-06T05:59:00-0400\n",
       "400          0      2      0  28680  2018-11-07T01:50:00-0400\n",
       "401          0      2      1  31320  2018-11-07T05:30:00-0400\n",
       "402          0      3      0  44184  2018-11-07T23:22:00-0400"
      ]
     },
     "execution_count": 18,
     "metadata": {},
     "output_type": "execute_result"
    }
   ],
   "source": [
    "new_events.head()"
   ]
  },
  {
   "cell_type": "code",
   "execution_count": 19,
   "metadata": {},
   "outputs": [
    {
     "data": {
      "text/html": [
       "<div>\n",
       "<style scoped>\n",
       "    .dataframe tbody tr th:only-of-type {\n",
       "        vertical-align: middle;\n",
       "    }\n",
       "\n",
       "    .dataframe tbody tr th {\n",
       "        vertical-align: top;\n",
       "    }\n",
       "\n",
       "    .dataframe thead th {\n",
       "        text-align: right;\n",
       "    }\n",
       "</style>\n",
       "<table border=\"1\" class=\"dataframe\">\n",
       "  <thead>\n",
       "    <tr style=\"text-align: right;\">\n",
       "      <th></th>\n",
       "      <th>series_id</th>\n",
       "      <th>step</th>\n",
       "      <th>timestamp</th>\n",
       "      <th>anglez</th>\n",
       "      <th>enmo</th>\n",
       "    </tr>\n",
       "  </thead>\n",
       "  <tbody>\n",
       "    <tr>\n",
       "      <th>3770820</th>\n",
       "      <td>0</td>\n",
       "      <td>0</td>\n",
       "      <td>2018-11-05 10:00:00-04:00</td>\n",
       "      <td>-30.845301</td>\n",
       "      <td>0.0447</td>\n",
       "    </tr>\n",
       "    <tr>\n",
       "      <th>3770821</th>\n",
       "      <td>0</td>\n",
       "      <td>1</td>\n",
       "      <td>2018-11-05 10:00:05-04:00</td>\n",
       "      <td>-34.181801</td>\n",
       "      <td>0.0443</td>\n",
       "    </tr>\n",
       "    <tr>\n",
       "      <th>3770822</th>\n",
       "      <td>0</td>\n",
       "      <td>2</td>\n",
       "      <td>2018-11-05 10:00:10-04:00</td>\n",
       "      <td>-33.877102</td>\n",
       "      <td>0.0483</td>\n",
       "    </tr>\n",
       "    <tr>\n",
       "      <th>3770823</th>\n",
       "      <td>0</td>\n",
       "      <td>3</td>\n",
       "      <td>2018-11-05 10:00:15-04:00</td>\n",
       "      <td>-34.282101</td>\n",
       "      <td>0.0680</td>\n",
       "    </tr>\n",
       "    <tr>\n",
       "      <th>3770824</th>\n",
       "      <td>0</td>\n",
       "      <td>4</td>\n",
       "      <td>2018-11-05 10:00:20-04:00</td>\n",
       "      <td>-34.385799</td>\n",
       "      <td>0.0768</td>\n",
       "    </tr>\n",
       "  </tbody>\n",
       "</table>\n",
       "</div>"
      ],
      "text/plain": [
       "         series_id  step                  timestamp     anglez    enmo\n",
       "3770820          0     0  2018-11-05 10:00:00-04:00 -30.845301  0.0447\n",
       "3770821          0     1  2018-11-05 10:00:05-04:00 -34.181801  0.0443\n",
       "3770822          0     2  2018-11-05 10:00:10-04:00 -33.877102  0.0483\n",
       "3770823          0     3  2018-11-05 10:00:15-04:00 -34.282101  0.0680\n",
       "3770824          0     4  2018-11-05 10:00:20-04:00 -34.385799  0.0768"
      ]
     },
     "execution_count": 19,
     "metadata": {},
     "output_type": "execute_result"
    }
   ],
   "source": [
    "new_series.head()"
   ]
  },
  {
   "attachments": {},
   "cell_type": "markdown",
   "metadata": {},
   "source": [
    "## 2.3 Merge the Datasets"
   ]
  },
  {
   "cell_type": "code",
   "execution_count": 20,
   "metadata": {},
   "outputs": [
    {
     "name": "stderr",
     "output_type": "stream",
     "text": [
      "100%|██████████| 14334840/14334840 [00:10<00:00, 1343017.48it/s]\n"
     ]
    }
   ],
   "source": [
    "# Add hour as a new column to train_series\n",
    "tqdm.pandas()\n",
    "new_series['hour'] = new_series['timestamp'].progress_apply(lambda x: x.hour)"
   ]
  },
  {
   "cell_type": "code",
   "execution_count": 21,
   "metadata": {},
   "outputs": [
    {
     "name": "stderr",
     "output_type": "stream",
     "text": [
      "100%|██████████| 14334840/14334840 [1:26:05<00:00, 2775.04it/s]\n",
      "100%|██████████| 14334840/14334840 [1:28:57<00:00, 2685.80it/s]\n"
     ]
    }
   ],
   "source": [
    "# Based on the series_id and step in train_events, add event and night to train_series\n",
    "def get_event_or_night(series, events, column_name):\n",
    "    matched_event = events[(events['series_id'] == series['series_id']) & (events['step'] == series['step'])][column_name]\n",
    "    return matched_event.values[0] if len(matched_event) > 0 else np.nan  # return NaN if no match\n",
    "\n",
    "new_series['event'] = new_series.progress_apply(lambda x: get_event_or_night(x, new_events, 'event'), axis=1)\n",
    "new_series['night'] = new_series.progress_apply(lambda x: get_event_or_night(x, new_events, 'night'), axis=1)\n"
   ]
  },
  {
   "cell_type": "code",
   "execution_count": 22,
   "metadata": {},
   "outputs": [
    {
     "name": "stdout",
     "output_type": "stream",
     "text": [
      "<class 'pandas.core.frame.DataFrame'>\n",
      "Int64Index: 14334840 entries, 3770820 to 103353659\n",
      "Data columns (total 8 columns):\n",
      " #   Column     Dtype  \n",
      "---  ------     -----  \n",
      " 0   series_id  uint8  \n",
      " 1   step       uint32 \n",
      " 2   timestamp  object \n",
      " 3   anglez     float32\n",
      " 4   enmo       float32\n",
      " 5   hour       int64  \n",
      " 6   event      float64\n",
      " 7   night      float64\n",
      "dtypes: float32(2), float64(2), int64(1), object(1), uint32(1), uint8(1)\n",
      "memory usage: 724.6+ MB\n"
     ]
    }
   ],
   "source": [
    "new_series.info()"
   ]
  },
  {
   "cell_type": "code",
   "execution_count": 23,
   "metadata": {},
   "outputs": [
    {
     "data": {
      "text/plain": [
       "14333278"
      ]
     },
     "execution_count": 23,
     "metadata": {},
     "output_type": "execute_result"
    }
   ],
   "source": [
    "# chech how many NaN values in event and night column\n",
    "new_series['event'].isnull().sum()\n",
    "new_series['night'].isnull().sum()\n"
   ]
  },
  {
   "cell_type": "code",
   "execution_count": 24,
   "metadata": {},
   "outputs": [],
   "source": [
    "new_series_copy = new_series.copy()"
   ]
  },
  {
   "cell_type": "code",
   "execution_count": 25,
   "metadata": {},
   "outputs": [],
   "source": [
    "# Fill the null values of event and night according to the before and after values\n",
    "new_series['event'] = new_series['event'].fillna(method='ffill').fillna(method='bfill')\n",
    "new_series['night'] = new_series['night'].fillna(method='ffill').fillna(method='bfill')"
   ]
  },
  {
   "cell_type": "code",
   "execution_count": 26,
   "metadata": {},
   "outputs": [
    {
     "data": {
      "text/plain": [
       "0"
      ]
     },
     "execution_count": 26,
     "metadata": {},
     "output_type": "execute_result"
    }
   ],
   "source": [
    "# check again how many NaN values in event and night column\n",
    "new_series['event'].isnull().sum()\n",
    "new_series['night'].isnull().sum()"
   ]
  },
  {
   "cell_type": "code",
   "execution_count": 27,
   "metadata": {},
   "outputs": [
    {
     "data": {
      "text/html": [
       "<div>\n",
       "<style scoped>\n",
       "    .dataframe tbody tr th:only-of-type {\n",
       "        vertical-align: middle;\n",
       "    }\n",
       "\n",
       "    .dataframe tbody tr th {\n",
       "        vertical-align: top;\n",
       "    }\n",
       "\n",
       "    .dataframe thead th {\n",
       "        text-align: right;\n",
       "    }\n",
       "</style>\n",
       "<table border=\"1\" class=\"dataframe\">\n",
       "  <thead>\n",
       "    <tr style=\"text-align: right;\">\n",
       "      <th></th>\n",
       "      <th>series_id</th>\n",
       "      <th>step</th>\n",
       "      <th>timestamp</th>\n",
       "      <th>anglez</th>\n",
       "      <th>enmo</th>\n",
       "      <th>hour</th>\n",
       "      <th>event</th>\n",
       "      <th>night</th>\n",
       "    </tr>\n",
       "  </thead>\n",
       "  <tbody>\n",
       "    <tr>\n",
       "      <th>3770820</th>\n",
       "      <td>0</td>\n",
       "      <td>0</td>\n",
       "      <td>2018-11-05 10:00:00-04:00</td>\n",
       "      <td>-30.845301</td>\n",
       "      <td>0.0447</td>\n",
       "      <td>10</td>\n",
       "      <td>0.0</td>\n",
       "      <td>1.0</td>\n",
       "    </tr>\n",
       "    <tr>\n",
       "      <th>3770821</th>\n",
       "      <td>0</td>\n",
       "      <td>1</td>\n",
       "      <td>2018-11-05 10:00:05-04:00</td>\n",
       "      <td>-34.181801</td>\n",
       "      <td>0.0443</td>\n",
       "      <td>10</td>\n",
       "      <td>0.0</td>\n",
       "      <td>1.0</td>\n",
       "    </tr>\n",
       "    <tr>\n",
       "      <th>3770822</th>\n",
       "      <td>0</td>\n",
       "      <td>2</td>\n",
       "      <td>2018-11-05 10:00:10-04:00</td>\n",
       "      <td>-33.877102</td>\n",
       "      <td>0.0483</td>\n",
       "      <td>10</td>\n",
       "      <td>0.0</td>\n",
       "      <td>1.0</td>\n",
       "    </tr>\n",
       "    <tr>\n",
       "      <th>3770823</th>\n",
       "      <td>0</td>\n",
       "      <td>3</td>\n",
       "      <td>2018-11-05 10:00:15-04:00</td>\n",
       "      <td>-34.282101</td>\n",
       "      <td>0.0680</td>\n",
       "      <td>10</td>\n",
       "      <td>0.0</td>\n",
       "      <td>1.0</td>\n",
       "    </tr>\n",
       "    <tr>\n",
       "      <th>3770824</th>\n",
       "      <td>0</td>\n",
       "      <td>4</td>\n",
       "      <td>2018-11-05 10:00:20-04:00</td>\n",
       "      <td>-34.385799</td>\n",
       "      <td>0.0768</td>\n",
       "      <td>10</td>\n",
       "      <td>0.0</td>\n",
       "      <td>1.0</td>\n",
       "    </tr>\n",
       "  </tbody>\n",
       "</table>\n",
       "</div>"
      ],
      "text/plain": [
       "         series_id  step                  timestamp     anglez    enmo  hour  \\\n",
       "3770820          0     0  2018-11-05 10:00:00-04:00 -30.845301  0.0447    10   \n",
       "3770821          0     1  2018-11-05 10:00:05-04:00 -34.181801  0.0443    10   \n",
       "3770822          0     2  2018-11-05 10:00:10-04:00 -33.877102  0.0483    10   \n",
       "3770823          0     3  2018-11-05 10:00:15-04:00 -34.282101  0.0680    10   \n",
       "3770824          0     4  2018-11-05 10:00:20-04:00 -34.385799  0.0768    10   \n",
       "\n",
       "         event  night  \n",
       "3770820    0.0    1.0  \n",
       "3770821    0.0    1.0  \n",
       "3770822    0.0    1.0  \n",
       "3770823    0.0    1.0  \n",
       "3770824    0.0    1.0  "
      ]
     },
     "execution_count": 27,
     "metadata": {},
     "output_type": "execute_result"
    }
   ],
   "source": [
    "new_series.head()"
   ]
  },
  {
   "cell_type": "markdown",
   "metadata": {},
   "source": [
    "Finally, we merge the train_series and train_events into one dataset, and we can see that the memory usage is 724.6 MB, which is much smaller than the original datasets(3.3 GB). And we add some columns to the datasets, which are important steps for the following data analysis."
   ]
  },
  {
   "cell_type": "markdown",
   "metadata": {},
   "source": [
    "The final size of new_series is 724.6MB, merging train_events and train_series."
   ]
  },
  {
   "cell_type": "code",
   "execution_count": 28,
   "metadata": {},
   "outputs": [
    {
     "name": "stdout",
     "output_type": "stream",
     "text": [
      "<class 'pandas.core.frame.DataFrame'>\n",
      "Int64Index: 14334840 entries, 3770820 to 103353659\n",
      "Data columns (total 8 columns):\n",
      " #   Column     Dtype  \n",
      "---  ------     -----  \n",
      " 0   series_id  uint8  \n",
      " 1   step       uint32 \n",
      " 2   timestamp  object \n",
      " 3   anglez     float32\n",
      " 4   enmo       float32\n",
      " 5   hour       int64  \n",
      " 6   event      float64\n",
      " 7   night      float64\n",
      "dtypes: float32(2), float64(2), int64(1), object(1), uint32(1), uint8(1)\n",
      "memory usage: 724.6+ MB\n"
     ]
    }
   ],
   "source": [
    "new_series.info()"
   ]
  },
  {
   "cell_type": "code",
   "execution_count": 29,
   "metadata": {},
   "outputs": [],
   "source": [
    "# new_series.to_parquet('new_series.parquet', index=False)\n",
    "# no need to run this line again, because we have already saved the new_series.parquet file"
   ]
  }
 ],
 "metadata": {
  "kernelspec": {
   "display_name": "Python 3 (ipykernel)",
   "language": "python",
   "name": "python3"
  },
  "language_info": {
   "codemirror_mode": {
    "name": "ipython",
    "version": 3
   },
   "file_extension": ".py",
   "mimetype": "text/x-python",
   "name": "python",
   "nbconvert_exporter": "python",
   "pygments_lexer": "ipython3",
   "version": "3.10.7"
  }
 },
 "nbformat": 4,
 "nbformat_minor": 2
}
