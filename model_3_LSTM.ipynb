{
 "cells": [
  {
   "cell_type": "markdown",
   "id": "4bbaee79",
   "metadata": {
    "papermill": {
     "duration": 0.004898,
     "end_time": "2023-12-07T15:38:21.275558",
     "exception": false,
     "start_time": "2023-12-07T15:38:21.270660",
     "status": "completed"
    },
    "tags": []
   },
   "source": [
    "## 5.2 LSTM"
   ]
  },
  {
   "cell_type": "markdown",
   "id": "f7e63c71",
   "metadata": {
    "papermill": {
     "duration": 0.003766,
     "end_time": "2023-12-07T15:38:21.283852",
     "exception": false,
     "start_time": "2023-12-07T15:38:21.280086",
     "status": "completed"
    },
    "tags": []
   },
   "source": [
    "Why add LSTM model?\n",
    "\n",
    "Cause ARIMA model in the before part is a single variable time series prediction model. And what we need to predict is the event column which only have two numbers (0 and 1). So the ARIMA model performs very well (MSE almost to 0) but I think it doesn't mean something (it is very easy to predict a line with 1 from several 0s and 1s).\n",
    "\n",
    "That's why I add LSTM model, it is also one time series forecasting model and can use several other features to predict one target feature future values.\n",
    "\n",
    "But it needs a lot of arithmetic, so I used kaggle's notebook, two gpu's to run the LSTM model.\n",
    "\n",
    "Wish the result is better!\n"
   ]
  },
  {
   "cell_type": "code",
   "execution_count": 1,
   "id": "1357eda8",
   "metadata": {
    "_cell_guid": "b1076dfc-b9ad-4769-8c92-a6c4dae69d19",
    "_uuid": "8f2839f25d086af736a60e9eeb907d3b93b6e0e5",
    "execution": {
     "iopub.execute_input": "2023-12-07T15:38:21.293793Z",
     "iopub.status.busy": "2023-12-07T15:38:21.292889Z",
     "iopub.status.idle": "2023-12-07T15:38:24.984256Z",
     "shell.execute_reply": "2023-12-07T15:38:24.983421Z"
    },
    "papermill": {
     "duration": 3.69883,
     "end_time": "2023-12-07T15:38:24.986565",
     "exception": false,
     "start_time": "2023-12-07T15:38:21.287735",
     "status": "completed"
    },
    "tags": []
   },
   "outputs": [
    {
     "name": "stderr",
     "output_type": "stream",
     "text": [
      "/opt/conda/lib/python3.10/site-packages/scipy/__init__.py:146: UserWarning: A NumPy version >=1.16.5 and <1.23.0 is required for this version of SciPy (detected version 1.24.3\n",
      "  warnings.warn(f\"A NumPy version >={np_minversion} and <{np_maxversion}\"\n"
     ]
    }
   ],
   "source": [
    "import pandas as pd\n",
    "from statsmodels.tsa.arima.model import ARIMA\n",
    "from sklearn.metrics import mean_squared_error\n",
    "from matplotlib import pyplot as plt\n",
    "from statsmodels.tsa.stattools import adfuller\n",
    "from statsmodels.graphics.tsaplots import plot_acf, plot_pacf\n",
    "from statsmodels.tsa.arima.model import ARIMA\n",
    "import matplotlib.pyplot as plt\n",
    "import warnings\n",
    "warnings.filterwarnings('ignore')"
   ]
  },
  {
   "cell_type": "code",
   "execution_count": 2,
   "id": "53f1e9f4",
   "metadata": {
    "execution": {
     "iopub.execute_input": "2023-12-07T15:38:24.996357Z",
     "iopub.status.busy": "2023-12-07T15:38:24.995977Z",
     "iopub.status.idle": "2023-12-07T15:38:28.360390Z",
     "shell.execute_reply": "2023-12-07T15:38:28.359572Z"
    },
    "papermill": {
     "duration": 3.371844,
     "end_time": "2023-12-07T15:38:28.362790",
     "exception": false,
     "start_time": "2023-12-07T15:38:24.990946",
     "status": "completed"
    },
    "tags": []
   },
   "outputs": [],
   "source": [
    "all_data_LSTM = pd.read_parquet('/kaggle/input/data-lstm')"
   ]
  },
  {
   "cell_type": "code",
   "execution_count": 3,
   "id": "eb835ec1",
   "metadata": {
    "execution": {
     "iopub.execute_input": "2023-12-07T15:38:28.372301Z",
     "iopub.status.busy": "2023-12-07T15:38:28.372012Z",
     "iopub.status.idle": "2023-12-07T15:38:30.169718Z",
     "shell.execute_reply": "2023-12-07T15:38:30.168819Z"
    },
    "papermill": {
     "duration": 1.804978,
     "end_time": "2023-12-07T15:38:30.172111",
     "exception": false,
     "start_time": "2023-12-07T15:38:28.367133",
     "status": "completed"
    },
    "tags": []
   },
   "outputs": [
    {
     "data": {
      "text/html": [
       "<div>\n",
       "<style scoped>\n",
       "    .dataframe tbody tr th:only-of-type {\n",
       "        vertical-align: middle;\n",
       "    }\n",
       "\n",
       "    .dataframe tbody tr th {\n",
       "        vertical-align: top;\n",
       "    }\n",
       "\n",
       "    .dataframe thead th {\n",
       "        text-align: right;\n",
       "    }\n",
       "</style>\n",
       "<table border=\"1\" class=\"dataframe\">\n",
       "  <thead>\n",
       "    <tr style=\"text-align: right;\">\n",
       "      <th></th>\n",
       "      <th>series_id</th>\n",
       "      <th>step</th>\n",
       "      <th>timestamp</th>\n",
       "      <th>anglez</th>\n",
       "      <th>enmo</th>\n",
       "      <th>hour</th>\n",
       "      <th>event</th>\n",
       "      <th>night</th>\n",
       "      <th>sleep_duration</th>\n",
       "      <th>anglez_diff</th>\n",
       "      <th>...</th>\n",
       "      <th>enmo_rolling_mean</th>\n",
       "      <th>anglez_rolling_max</th>\n",
       "      <th>enmo_rolling_max</th>\n",
       "      <th>anglez_rolling_std</th>\n",
       "      <th>enmo_rolling_std</th>\n",
       "      <th>anglez_diff_rolling_mean</th>\n",
       "      <th>enmo_diff_rolling_mean</th>\n",
       "      <th>anglez_diff_rolling_max</th>\n",
       "      <th>enmo_diff_rolling_max</th>\n",
       "      <th>enmo_rolling_skew</th>\n",
       "    </tr>\n",
       "  </thead>\n",
       "  <tbody>\n",
       "    <tr>\n",
       "      <th>0</th>\n",
       "      <td>0</td>\n",
       "      <td>0</td>\n",
       "      <td>2018-11-05 10:00:00</td>\n",
       "      <td>30.845301</td>\n",
       "      <td>0.0447</td>\n",
       "      <td>10</td>\n",
       "      <td>0.0</td>\n",
       "      <td>1.0</td>\n",
       "      <td>3.333333</td>\n",
       "      <td>-9.125</td>\n",
       "      <td>...</td>\n",
       "      <td>0.074097</td>\n",
       "      <td>34.9375</td>\n",
       "      <td>0.197998</td>\n",
       "      <td>3.712891</td>\n",
       "      <td>0.031433</td>\n",
       "      <td>-9.125</td>\n",
       "      <td>0.017502</td>\n",
       "      <td>-9.125</td>\n",
       "      <td>0.017502</td>\n",
       "      <td>1.876953</td>\n",
       "    </tr>\n",
       "    <tr>\n",
       "      <th>1</th>\n",
       "      <td>0</td>\n",
       "      <td>1</td>\n",
       "      <td>2018-11-05 10:00:05</td>\n",
       "      <td>34.181801</td>\n",
       "      <td>0.0443</td>\n",
       "      <td>10</td>\n",
       "      <td>0.0</td>\n",
       "      <td>1.0</td>\n",
       "      <td>3.333333</td>\n",
       "      <td>-9.125</td>\n",
       "      <td>...</td>\n",
       "      <td>0.074097</td>\n",
       "      <td>34.9375</td>\n",
       "      <td>0.197998</td>\n",
       "      <td>3.712891</td>\n",
       "      <td>0.031433</td>\n",
       "      <td>-9.125</td>\n",
       "      <td>0.017502</td>\n",
       "      <td>-9.125</td>\n",
       "      <td>0.017502</td>\n",
       "      <td>1.876953</td>\n",
       "    </tr>\n",
       "    <tr>\n",
       "      <th>2</th>\n",
       "      <td>0</td>\n",
       "      <td>2</td>\n",
       "      <td>2018-11-05 10:00:10</td>\n",
       "      <td>33.877102</td>\n",
       "      <td>0.0483</td>\n",
       "      <td>10</td>\n",
       "      <td>0.0</td>\n",
       "      <td>1.0</td>\n",
       "      <td>3.333333</td>\n",
       "      <td>-9.125</td>\n",
       "      <td>...</td>\n",
       "      <td>0.074097</td>\n",
       "      <td>34.9375</td>\n",
       "      <td>0.197998</td>\n",
       "      <td>3.712891</td>\n",
       "      <td>0.031433</td>\n",
       "      <td>-9.125</td>\n",
       "      <td>0.017502</td>\n",
       "      <td>-9.125</td>\n",
       "      <td>0.017502</td>\n",
       "      <td>1.876953</td>\n",
       "    </tr>\n",
       "    <tr>\n",
       "      <th>3</th>\n",
       "      <td>0</td>\n",
       "      <td>3</td>\n",
       "      <td>2018-11-05 10:00:15</td>\n",
       "      <td>34.282101</td>\n",
       "      <td>0.0680</td>\n",
       "      <td>10</td>\n",
       "      <td>0.0</td>\n",
       "      <td>1.0</td>\n",
       "      <td>3.333333</td>\n",
       "      <td>-9.125</td>\n",
       "      <td>...</td>\n",
       "      <td>0.074097</td>\n",
       "      <td>34.9375</td>\n",
       "      <td>0.197998</td>\n",
       "      <td>3.712891</td>\n",
       "      <td>0.031433</td>\n",
       "      <td>-9.125</td>\n",
       "      <td>0.017502</td>\n",
       "      <td>-9.125</td>\n",
       "      <td>0.017502</td>\n",
       "      <td>1.876953</td>\n",
       "    </tr>\n",
       "    <tr>\n",
       "      <th>4</th>\n",
       "      <td>0</td>\n",
       "      <td>4</td>\n",
       "      <td>2018-11-05 10:00:20</td>\n",
       "      <td>34.385799</td>\n",
       "      <td>0.0768</td>\n",
       "      <td>10</td>\n",
       "      <td>0.0</td>\n",
       "      <td>1.0</td>\n",
       "      <td>3.333333</td>\n",
       "      <td>-9.125</td>\n",
       "      <td>...</td>\n",
       "      <td>0.074097</td>\n",
       "      <td>34.9375</td>\n",
       "      <td>0.197998</td>\n",
       "      <td>3.712891</td>\n",
       "      <td>0.031433</td>\n",
       "      <td>-9.125</td>\n",
       "      <td>0.017502</td>\n",
       "      <td>-9.125</td>\n",
       "      <td>0.017502</td>\n",
       "      <td>1.876953</td>\n",
       "    </tr>\n",
       "  </tbody>\n",
       "</table>\n",
       "<p>5 rows × 22 columns</p>\n",
       "</div>"
      ],
      "text/plain": [
       "   series_id  step           timestamp     anglez    enmo  hour  event  night  \\\n",
       "0          0     0 2018-11-05 10:00:00  30.845301  0.0447    10    0.0    1.0   \n",
       "1          0     1 2018-11-05 10:00:05  34.181801  0.0443    10    0.0    1.0   \n",
       "2          0     2 2018-11-05 10:00:10  33.877102  0.0483    10    0.0    1.0   \n",
       "3          0     3 2018-11-05 10:00:15  34.282101  0.0680    10    0.0    1.0   \n",
       "4          0     4 2018-11-05 10:00:20  34.385799  0.0768    10    0.0    1.0   \n",
       "\n",
       "   sleep_duration  anglez_diff  ...  enmo_rolling_mean  anglez_rolling_max  \\\n",
       "0        3.333333       -9.125  ...           0.074097             34.9375   \n",
       "1        3.333333       -9.125  ...           0.074097             34.9375   \n",
       "2        3.333333       -9.125  ...           0.074097             34.9375   \n",
       "3        3.333333       -9.125  ...           0.074097             34.9375   \n",
       "4        3.333333       -9.125  ...           0.074097             34.9375   \n",
       "\n",
       "   enmo_rolling_max  anglez_rolling_std  enmo_rolling_std  \\\n",
       "0          0.197998            3.712891          0.031433   \n",
       "1          0.197998            3.712891          0.031433   \n",
       "2          0.197998            3.712891          0.031433   \n",
       "3          0.197998            3.712891          0.031433   \n",
       "4          0.197998            3.712891          0.031433   \n",
       "\n",
       "   anglez_diff_rolling_mean  enmo_diff_rolling_mean  anglez_diff_rolling_max  \\\n",
       "0                    -9.125                0.017502                   -9.125   \n",
       "1                    -9.125                0.017502                   -9.125   \n",
       "2                    -9.125                0.017502                   -9.125   \n",
       "3                    -9.125                0.017502                   -9.125   \n",
       "4                    -9.125                0.017502                   -9.125   \n",
       "\n",
       "   enmo_diff_rolling_max  enmo_rolling_skew  \n",
       "0               0.017502           1.876953  \n",
       "1               0.017502           1.876953  \n",
       "2               0.017502           1.876953  \n",
       "3               0.017502           1.876953  \n",
       "4               0.017502           1.876953  \n",
       "\n",
       "[5 rows x 22 columns]"
      ]
     },
     "execution_count": 3,
     "metadata": {},
     "output_type": "execute_result"
    }
   ],
   "source": [
    "all_data_sorted_LSTM = all_data_LSTM.sort_values(by=['series_id', 'step'])\n",
    "\n",
    "all_data_sorted_LSTM.head()"
   ]
  },
  {
   "cell_type": "code",
   "execution_count": 4,
   "id": "b849ef90",
   "metadata": {
    "execution": {
     "iopub.execute_input": "2023-12-07T15:38:30.183003Z",
     "iopub.status.busy": "2023-12-07T15:38:30.182710Z",
     "iopub.status.idle": "2023-12-07T15:38:32.017559Z",
     "shell.execute_reply": "2023-12-07T15:38:32.016414Z"
    },
    "papermill": {
     "duration": 1.842427,
     "end_time": "2023-12-07T15:38:32.019703",
     "exception": false,
     "start_time": "2023-12-07T15:38:30.177276",
     "status": "completed"
    },
    "tags": []
   },
   "outputs": [
    {
     "name": "stdout",
     "output_type": "stream",
     "text": [
      "The series_id with the smallest percentage of total step is 0, missing ratio is 0.00%\n"
     ]
    }
   ],
   "source": [
    "min_missing_ratio_LSTM = float('inf')\n",
    "series_id_with_min_missing_ratio_LSTM = None\n",
    "\n",
    "for series_id in all_data_sorted_LSTM['series_id'].unique():\n",
    "    series_data_LSTM = all_data_sorted_LSTM[all_data_sorted_LSTM['series_id'] == series_id]\n",
    "    series_data_LSTM = series_data_LSTM.sort_values(by='step') \n",
    "\n",
    "    total_steps_LSTM = len(series_data_LSTM)\n",
    "\n",
    "    step_diff_LSTM = series_data_LSTM['step'].diff() - 1\n",
    "    missing_steps_count_LSTM = step_diff_LSTM[step_diff_LSTM > 0].sum()\n",
    "\n",
    "    missing_ratio_LSTM = missing_steps_count_LSTM / total_steps_LSTM if total_steps_LSTM > 0 else 0\n",
    "\n",
    "    if missing_ratio_LSTM < min_missing_ratio_LSTM:\n",
    "        min_missing_ratio_LSTM = missing_ratio_LSTM\n",
    "        series_id_with_min_missing_ratio_LSTM = series_id\n",
    "        \n",
    "print(f\"The series_id with the smallest percentage of total step is {series_id_with_min_missing_ratio_LSTM}, missing ratio is {min_missing_ratio_LSTM:.2%}\")\n"
   ]
  },
  {
   "cell_type": "code",
   "execution_count": 5,
   "id": "b8494a1e",
   "metadata": {
    "execution": {
     "iopub.execute_input": "2023-12-07T15:38:32.030766Z",
     "iopub.status.busy": "2023-12-07T15:38:32.029959Z",
     "iopub.status.idle": "2023-12-07T15:38:32.077932Z",
     "shell.execute_reply": "2023-12-07T15:38:32.076867Z"
    },
    "papermill": {
     "duration": 0.055781,
     "end_time": "2023-12-07T15:38:32.080236",
     "exception": false,
     "start_time": "2023-12-07T15:38:32.024455",
     "status": "completed"
    },
    "tags": []
   },
   "outputs": [
    {
     "data": {
      "text/plain": [
       "event\n",
       "1.0    303384\n",
       "0.0    136896\n",
       "Name: count, dtype: int64"
      ]
     },
     "execution_count": 5,
     "metadata": {},
     "output_type": "execute_result"
    }
   ],
   "source": [
    "all_data_sorted_LSTM[all_data_sorted_LSTM['series_id'] == 0]['event'].value_counts()"
   ]
  },
  {
   "cell_type": "code",
   "execution_count": 6,
   "id": "7342d65d",
   "metadata": {
    "execution": {
     "iopub.execute_input": "2023-12-07T15:38:32.092201Z",
     "iopub.status.busy": "2023-12-07T15:38:32.091369Z",
     "iopub.status.idle": "2023-12-07T15:38:32.126829Z",
     "shell.execute_reply": "2023-12-07T15:38:32.125927Z"
    },
    "papermill": {
     "duration": 0.043497,
     "end_time": "2023-12-07T15:38:32.129022",
     "exception": false,
     "start_time": "2023-12-07T15:38:32.085525",
     "status": "completed"
    },
    "tags": []
   },
   "outputs": [
    {
     "data": {
      "text/plain": [
       "440279    440279\n",
       "Name: step, dtype: uint32"
      ]
     },
     "execution_count": 6,
     "metadata": {},
     "output_type": "execute_result"
    }
   ],
   "source": [
    "all_data_sorted_LSTM[all_data_sorted_LSTM['series_id'] == 0].tail(1)['step']"
   ]
  },
  {
   "cell_type": "code",
   "execution_count": 7,
   "id": "107e5bff",
   "metadata": {
    "execution": {
     "iopub.execute_input": "2023-12-07T15:38:32.140172Z",
     "iopub.status.busy": "2023-12-07T15:38:32.139891Z",
     "iopub.status.idle": "2023-12-07T15:38:50.547201Z",
     "shell.execute_reply": "2023-12-07T15:38:50.546234Z"
    },
    "papermill": {
     "duration": 18.41566,
     "end_time": "2023-12-07T15:38:50.549626",
     "exception": false,
     "start_time": "2023-12-07T15:38:32.133966",
     "status": "completed"
    },
    "tags": []
   },
   "outputs": [],
   "source": [
    "from keras.models import Sequential\n",
    "from keras.layers import LSTM, Dropout, BatchNormalization, Dense\n",
    "from keras.callbacks import EarlyStopping\n",
    "from sklearn.preprocessing import MinMaxScaler\n",
    "import matplotlib.pyplot as plt\n",
    "import numpy as np"
   ]
  },
  {
   "cell_type": "code",
   "execution_count": 8,
   "id": "9dd068b8",
   "metadata": {
    "execution": {
     "iopub.execute_input": "2023-12-07T15:38:50.561071Z",
     "iopub.status.busy": "2023-12-07T15:38:50.560472Z",
     "iopub.status.idle": "2023-12-07T15:38:51.129649Z",
     "shell.execute_reply": "2023-12-07T15:38:51.128818Z"
    },
    "papermill": {
     "duration": 0.57758,
     "end_time": "2023-12-07T15:38:51.132169",
     "exception": false,
     "start_time": "2023-12-07T15:38:50.554589",
     "status": "completed"
    },
    "tags": []
   },
   "outputs": [],
   "source": [
    "# Setting the timestamp column as a time series index\n",
    "if 'timestamp' in all_data_sorted_LSTM.columns:\n",
    "    all_data_sorted_LSTM = all_data_sorted_LSTM.set_index('timestamp')\n",
    "\n",
    "# choose series_id = 0 to analyze\n",
    "selected_series_id_LSTM = all_data_sorted_LSTM[all_data_sorted_LSTM['series_id'] == 0]"
   ]
  },
  {
   "cell_type": "code",
   "execution_count": 10,
   "id": "09a59313",
   "metadata": {
    "execution": {
     "iopub.execute_input": "2023-12-07T15:38:51.164257Z",
     "iopub.status.busy": "2023-12-07T15:38:51.163999Z",
     "iopub.status.idle": "2023-12-07T15:50:49.888066Z",
     "shell.execute_reply": "2023-12-07T15:50:49.887113Z"
    },
    "papermill": {
     "duration": 718.732149,
     "end_time": "2023-12-07T15:50:49.890245",
     "exception": false,
     "start_time": "2023-12-07T15:38:51.158096",
     "status": "completed"
    },
    "tags": []
   },
   "outputs": [
    {
     "name": "stdout",
     "output_type": "stream",
     "text": [
      "Epoch 1/100\n",
      "9631/9631 - 72s - loss: 0.0616 - val_loss: 0.2328 - 72s/epoch - 7ms/step\n",
      "Epoch 2/100\n",
      "9631/9631 - 60s - loss: 0.0221 - val_loss: 0.5076 - 60s/epoch - 6ms/step\n",
      "Epoch 3/100\n",
      "9631/9631 - 60s - loss: 0.0162 - val_loss: 0.5763 - 60s/epoch - 6ms/step\n",
      "Epoch 4/100\n",
      "9631/9631 - 60s - loss: 0.0140 - val_loss: 0.5976 - 60s/epoch - 6ms/step\n",
      "Epoch 5/100\n",
      "9631/9631 - 59s - loss: 0.0117 - val_loss: 0.7358 - 59s/epoch - 6ms/step\n",
      "Epoch 6/100\n",
      "9631/9631 - 58s - loss: 0.0099 - val_loss: 0.7658 - 58s/epoch - 6ms/step\n",
      "Epoch 7/100\n",
      "9631/9631 - 58s - loss: 0.0091 - val_loss: 0.8093 - 58s/epoch - 6ms/step\n",
      "Epoch 8/100\n",
      "9631/9631 - 59s - loss: 0.0080 - val_loss: 0.8414 - 59s/epoch - 6ms/step\n",
      "Epoch 9/100\n",
      "9631/9631 - 59s - loss: 0.0076 - val_loss: 0.7858 - 59s/epoch - 6ms/step\n",
      "Epoch 10/100\n",
      "9631/9631 - 59s - loss: 0.0072 - val_loss: 0.7779 - 59s/epoch - 6ms/step\n",
      "Epoch 11/100\n",
      "9631/9631 - 60s - loss: 0.0071 - val_loss: 0.8571 - 60s/epoch - 6ms/step\n",
      "9631/9631 [==============================] - 24s 2ms/step\n",
      "4128/4128 [==============================] - 12s 3ms/step\n"
     ]
    },
    {
     "data": {
      "image/png": "[encoded data removed]",
      "text/plain": [
       "<Figure size 1200x400 with 1 Axes>"
      ]
     },
     "metadata": {},
     "output_type": "display_data"
    },
    {
     "data": {
      "image/png": "[encoded data removed]",
      "text/plain": [
       "<Figure size 1200x400 with 1 Axes>"
      ]
     },
     "metadata": {},
     "output_type": "display_data"
    }
   ],
   "source": [
    "# Scaling features except 'event' column\n",
    "features = selected_series_id_LSTM.drop(['event'], axis=1)\n",
    "scaler_features = MinMaxScaler(feature_range=(0, 1))\n",
    "scaled_features = scaler_features.fit_transform(features)\n",
    "\n",
    "# Scaling 'event' column separately - assuming it's a binary classification problem\n",
    "target = selected_series_id_LSTM['event'].values.reshape(-1, 1)\n",
    "\n",
    "# Creating dataset function\n",
    "def create_dataset(features, target, look_back=1):\n",
    "    X, Y = [], []\n",
    "    for i in range(len(features) - look_back):\n",
    "        X.append(features[i:(i + look_back), :])\n",
    "        Y.append(target[i + look_back])\n",
    "    return np.array(X), np.array(Y)\n",
    "\n",
    "look_back = 5\n",
    "X, Y = create_dataset(scaled_features, target, look_back)\n",
    "\n",
    "# Splitting dataset\n",
    "train_size = int(len(X) * 0.7)\n",
    "X_train, X_test = X[:train_size], X[train_size:]\n",
    "Y_train, Y_test = Y[:train_size], Y[train_size:]\n",
    "\n",
    "# LSTM model construction\n",
    "model = Sequential()\n",
    "model.add(LSTM(50, return_sequences=True, input_shape=(look_back, X_train.shape[2])))\n",
    "model.add(Dropout(0.2))\n",
    "model.add(BatchNormalization())\n",
    "\n",
    "model.add(LSTM(50, return_sequences=False))\n",
    "model.add(Dropout(0.2))\n",
    "\n",
    "model.add(Dense(1, activation='sigmoid'))  \n",
    "model.compile(optimizer='adam', loss='binary_crossentropy')  \n",
    "\n",
    "# Early stopping setup\n",
    "early_stopping = EarlyStopping(monitor='val_loss', patience=10)\n",
    "\n",
    "# Training the model and saving the training history\n",
    "history = model.fit(X_train, Y_train, epochs=100, batch_size=32, verbose=2, \n",
    "                    validation_data=(X_test, Y_test), callbacks=[early_stopping])\n",
    "\n",
    "# Predicting\n",
    "train_predict = model.predict(X_train)\n",
    "test_predict = model.predict(X_test)\n",
    "\n",
    "# Visualizing the model's loss\n",
    "plt.figure(figsize=(12, 4))\n",
    "plt.plot(history.history['loss'], label='Train Loss')\n",
    "plt.plot(history.history['val_loss'], label='Validation Loss')\n",
    "plt.title('Model Loss')\n",
    "plt.xlabel('Epochs')\n",
    "plt.ylabel('Loss')\n",
    "plt.legend()\n",
    "plt.tight_layout()\n",
    "plt.show()\n",
    "\n",
    "# Visualizing predictions vs actual values\n",
    "plt.figure(figsize=(12, 4))\n",
    "plt.plot(Y_test, label='Actual')\n",
    "plt.plot(test_predict, label='Predicted')\n",
    "plt.title('Prediction vs Actual')\n",
    "plt.xlabel('Time')\n",
    "plt.ylabel('Event')\n",
    "plt.legend()\n",
    "plt.tight_layout()\n",
    "plt.show()"
   ]
  },
  {
   "cell_type": "markdown",
   "metadata": {},
   "source": [
    "I think the result for LSTM is not bad and the beginning prediction is good. But the prediction for the last part is not good. I think it is because the data is not enough for the LSTM model to learn. So I think if we have more data, the result will be better.\n",
    "\n",
    "1. Model Loss Graph Analysis:\n",
    "\n",
    "The first graph depicts the model's training loss (blue) and validation loss (orange) across epochs.\n",
    "\n",
    "The training loss decreases steadily, which indicates that the model is learning from the training data.\n",
    "\n",
    "The validation loss, however, starts to increase after a certain point, suggesting that the model might be overfitting to the training data. Overfitting is when a model learns patterns that are specific to the training data, which do not generalize well to new, unseen data. We want to avoid overfitting as much as possible, so that our model can accurately predict unseen data. Our future work is to introduce adaptive mechanisms that reduce the errors generated by predictions of larger and more distant future times.\n",
    "\n",
    "2. Prediction vs. Actual Graph Analysis:\n",
    "\n",
    "The second graph compares the actual values (blue) to the predicted values (orange) of the event column over time.\n",
    "\n",
    "The actual values show a clear binary pattern, which aligns with your description that the event column represents two states (e.g., awake and asleep).\n",
    "\n",
    "The predicted values appear to follow the actual pattern closely, but there are instances where the predictions do not match the actual values (e.g., false positives or false negatives).\n",
    "\n",
    "The prediction graph shows some noise, especially in the transitions between 0 and 1. It might benefit from additional post-processing like thresholding to clean up the predictions.\n"
   ]
  }
 ],
 "metadata": {
  "kaggle": {
   "accelerator": "nvidiaTeslaT4",
   "dataSources": [
    {
     "datasetId": 4119504,
     "sourceId": 7138322,
     "sourceType": "datasetVersion"
    }
   ],
   "dockerImageVersionId": 30588,
   "isGpuEnabled": true,
   "isInternetEnabled": true,
   "language": "python",
   "sourceType": "notebook"
  },
  "kernelspec": {
   "display_name": "Python 3",
   "language": "python",
   "name": "python3"
  },
  "language_info": {
   "codemirror_mode": {
    "name": "ipython",
    "version": 3
   },
   "file_extension": ".py",
   "mimetype": "text/x-python",
   "name": "python",
   "nbconvert_exporter": "python",
   "pygments_lexer": "ipython3",
   "version": "3.10.12"
  },
  "papermill": {
   "default_parameters": {},
   "duration": 756.76261,
   "end_time": "2023-12-07T15:50:53.227002",
   "environment_variables": {},
   "exception": null,
   "input_path": "__notebook__.ipynb",
   "output_path": "__notebook__.ipynb",
   "parameters": {},
   "start_time": "2023-12-07T15:38:16.464392",
   "version": "2.4.0"
  }
 },
 "nbformat": 4,
 "nbformat_minor": 5
}
