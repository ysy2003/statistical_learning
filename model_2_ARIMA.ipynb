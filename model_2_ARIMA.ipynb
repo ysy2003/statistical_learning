{
 "cells": [
  {
   "cell_type": "markdown",
   "metadata": {},
   "source": [
    "# 5. Sequence Analysis"
   ]
  },
  {
   "cell_type": "code",
   "execution_count": 1,
   "metadata": {},
   "outputs": [],
   "source": [
    "import pandas as pd\n",
    "from statsmodels.tsa.arima.model import ARIMA\n",
    "from sklearn.metrics import mean_squared_error\n",
    "from matplotlib import pyplot as plt\n",
    "from statsmodels.tsa.stattools import adfuller\n",
    "from statsmodels.graphics.tsaplots import plot_acf, plot_pacf\n",
    "import warnings\n",
    "warnings.filterwarnings('ignore')"
   ]
  },
  {
   "cell_type": "markdown",
   "metadata": {},
   "source": [
    "## 5.1 ARIMA"
   ]
  },
  {
   "cell_type": "code",
   "execution_count": 2,
   "metadata": {},
   "outputs": [],
   "source": [
    "all_data = pd.read_parquet('all_data_for_regression.parquet')"
   ]
  },
  {
   "cell_type": "code",
   "execution_count": 3,
   "metadata": {},
   "outputs": [
    {
     "data": {
      "text/html": [
       "<div>\n",
       "<style scoped>\n",
       "    .dataframe tbody tr th:only-of-type {\n",
       "        vertical-align: middle;\n",
       "    }\n",
       "\n",
       "    .dataframe tbody tr th {\n",
       "        vertical-align: top;\n",
       "    }\n",
       "\n",
       "    .dataframe thead th {\n",
       "        text-align: right;\n",
       "    }\n",
       "</style>\n",
       "<table border=\"1\" class=\"dataframe\">\n",
       "  <thead>\n",
       "    <tr style=\"text-align: right;\">\n",
       "      <th></th>\n",
       "      <th>series_id</th>\n",
       "      <th>step</th>\n",
       "      <th>timestamp</th>\n",
       "      <th>anglez</th>\n",
       "      <th>enmo</th>\n",
       "      <th>hour</th>\n",
       "      <th>event</th>\n",
       "      <th>night</th>\n",
       "      <th>sleep_duration</th>\n",
       "      <th>anglez_diff</th>\n",
       "      <th>...</th>\n",
       "      <th>enmo_rolling_mean</th>\n",
       "      <th>anglez_rolling_max</th>\n",
       "      <th>enmo_rolling_max</th>\n",
       "      <th>anglez_rolling_std</th>\n",
       "      <th>enmo_rolling_std</th>\n",
       "      <th>anglez_diff_rolling_mean</th>\n",
       "      <th>enmo_diff_rolling_mean</th>\n",
       "      <th>anglez_diff_rolling_max</th>\n",
       "      <th>enmo_diff_rolling_max</th>\n",
       "      <th>enmo_rolling_skew</th>\n",
       "    </tr>\n",
       "  </thead>\n",
       "  <tbody>\n",
       "    <tr>\n",
       "      <th>0</th>\n",
       "      <td>0</td>\n",
       "      <td>0</td>\n",
       "      <td>2018-11-05 10:00:00</td>\n",
       "      <td>30.845301</td>\n",
       "      <td>0.0447</td>\n",
       "      <td>10</td>\n",
       "      <td>0.0</td>\n",
       "      <td>1.0</td>\n",
       "      <td>3.333333</td>\n",
       "      <td>-9.125</td>\n",
       "      <td>...</td>\n",
       "      <td>0.074097</td>\n",
       "      <td>34.9375</td>\n",
       "      <td>0.197998</td>\n",
       "      <td>3.712891</td>\n",
       "      <td>0.031433</td>\n",
       "      <td>-9.125</td>\n",
       "      <td>0.017502</td>\n",
       "      <td>-9.125</td>\n",
       "      <td>0.017502</td>\n",
       "      <td>1.876953</td>\n",
       "    </tr>\n",
       "    <tr>\n",
       "      <th>1</th>\n",
       "      <td>0</td>\n",
       "      <td>1</td>\n",
       "      <td>2018-11-05 10:00:05</td>\n",
       "      <td>34.181801</td>\n",
       "      <td>0.0443</td>\n",
       "      <td>10</td>\n",
       "      <td>0.0</td>\n",
       "      <td>1.0</td>\n",
       "      <td>3.333333</td>\n",
       "      <td>-9.125</td>\n",
       "      <td>...</td>\n",
       "      <td>0.074097</td>\n",
       "      <td>34.9375</td>\n",
       "      <td>0.197998</td>\n",
       "      <td>3.712891</td>\n",
       "      <td>0.031433</td>\n",
       "      <td>-9.125</td>\n",
       "      <td>0.017502</td>\n",
       "      <td>-9.125</td>\n",
       "      <td>0.017502</td>\n",
       "      <td>1.876953</td>\n",
       "    </tr>\n",
       "    <tr>\n",
       "      <th>2</th>\n",
       "      <td>0</td>\n",
       "      <td>2</td>\n",
       "      <td>2018-11-05 10:00:10</td>\n",
       "      <td>33.877102</td>\n",
       "      <td>0.0483</td>\n",
       "      <td>10</td>\n",
       "      <td>0.0</td>\n",
       "      <td>1.0</td>\n",
       "      <td>3.333333</td>\n",
       "      <td>-9.125</td>\n",
       "      <td>...</td>\n",
       "      <td>0.074097</td>\n",
       "      <td>34.9375</td>\n",
       "      <td>0.197998</td>\n",
       "      <td>3.712891</td>\n",
       "      <td>0.031433</td>\n",
       "      <td>-9.125</td>\n",
       "      <td>0.017502</td>\n",
       "      <td>-9.125</td>\n",
       "      <td>0.017502</td>\n",
       "      <td>1.876953</td>\n",
       "    </tr>\n",
       "    <tr>\n",
       "      <th>3</th>\n",
       "      <td>0</td>\n",
       "      <td>3</td>\n",
       "      <td>2018-11-05 10:00:15</td>\n",
       "      <td>34.282101</td>\n",
       "      <td>0.0680</td>\n",
       "      <td>10</td>\n",
       "      <td>0.0</td>\n",
       "      <td>1.0</td>\n",
       "      <td>3.333333</td>\n",
       "      <td>-9.125</td>\n",
       "      <td>...</td>\n",
       "      <td>0.074097</td>\n",
       "      <td>34.9375</td>\n",
       "      <td>0.197998</td>\n",
       "      <td>3.712891</td>\n",
       "      <td>0.031433</td>\n",
       "      <td>-9.125</td>\n",
       "      <td>0.017502</td>\n",
       "      <td>-9.125</td>\n",
       "      <td>0.017502</td>\n",
       "      <td>1.876953</td>\n",
       "    </tr>\n",
       "    <tr>\n",
       "      <th>4</th>\n",
       "      <td>0</td>\n",
       "      <td>4</td>\n",
       "      <td>2018-11-05 10:00:20</td>\n",
       "      <td>34.385799</td>\n",
       "      <td>0.0768</td>\n",
       "      <td>10</td>\n",
       "      <td>0.0</td>\n",
       "      <td>1.0</td>\n",
       "      <td>3.333333</td>\n",
       "      <td>-9.125</td>\n",
       "      <td>...</td>\n",
       "      <td>0.074097</td>\n",
       "      <td>34.9375</td>\n",
       "      <td>0.197998</td>\n",
       "      <td>3.712891</td>\n",
       "      <td>0.031433</td>\n",
       "      <td>-9.125</td>\n",
       "      <td>0.017502</td>\n",
       "      <td>-9.125</td>\n",
       "      <td>0.017502</td>\n",
       "      <td>1.876953</td>\n",
       "    </tr>\n",
       "  </tbody>\n",
       "</table>\n",
       "<p>5 rows × 22 columns</p>\n",
       "</div>"
      ],
      "text/plain": [
       "   series_id  step           timestamp     anglez    enmo  hour  event  night  \\\n",
       "0          0     0 2018-11-05 10:00:00  30.845301  0.0447    10    0.0    1.0   \n",
       "1          0     1 2018-11-05 10:00:05  34.181801  0.0443    10    0.0    1.0   \n",
       "2          0     2 2018-11-05 10:00:10  33.877102  0.0483    10    0.0    1.0   \n",
       "3          0     3 2018-11-05 10:00:15  34.282101  0.0680    10    0.0    1.0   \n",
       "4          0     4 2018-11-05 10:00:20  34.385799  0.0768    10    0.0    1.0   \n",
       "\n",
       "   sleep_duration  anglez_diff  ...  enmo_rolling_mean  anglez_rolling_max  \\\n",
       "0        3.333333       -9.125  ...           0.074097             34.9375   \n",
       "1        3.333333       -9.125  ...           0.074097             34.9375   \n",
       "2        3.333333       -9.125  ...           0.074097             34.9375   \n",
       "3        3.333333       -9.125  ...           0.074097             34.9375   \n",
       "4        3.333333       -9.125  ...           0.074097             34.9375   \n",
       "\n",
       "   enmo_rolling_max  anglez_rolling_std  enmo_rolling_std  \\\n",
       "0          0.197998            3.712891          0.031433   \n",
       "1          0.197998            3.712891          0.031433   \n",
       "2          0.197998            3.712891          0.031433   \n",
       "3          0.197998            3.712891          0.031433   \n",
       "4          0.197998            3.712891          0.031433   \n",
       "\n",
       "   anglez_diff_rolling_mean  enmo_diff_rolling_mean  anglez_diff_rolling_max  \\\n",
       "0                    -9.125                0.017502                   -9.125   \n",
       "1                    -9.125                0.017502                   -9.125   \n",
       "2                    -9.125                0.017502                   -9.125   \n",
       "3                    -9.125                0.017502                   -9.125   \n",
       "4                    -9.125                0.017502                   -9.125   \n",
       "\n",
       "   enmo_diff_rolling_max  enmo_rolling_skew  \n",
       "0               0.017502           1.876953  \n",
       "1               0.017502           1.876953  \n",
       "2               0.017502           1.876953  \n",
       "3               0.017502           1.876953  \n",
       "4               0.017502           1.876953  \n",
       "\n",
       "[5 rows x 22 columns]"
      ]
     },
     "execution_count": 3,
     "metadata": {},
     "output_type": "execute_result"
    }
   ],
   "source": [
    "# sort the data by series_id and step\n",
    "all_data_sorted = all_data.sort_values(by=['series_id', 'step'])\n",
    "\n",
    "all_data_sorted.head()"
   ]
  },
  {
   "cell_type": "code",
   "execution_count": 4,
   "metadata": {},
   "outputs": [
    {
     "name": "stdout",
     "output_type": "stream",
     "text": [
      "The series_id with the smallest percentage of total step is 0,missing ratio is 0.00%\n"
     ]
    }
   ],
   "source": [
    "# check the stationarity of the data\n",
    "min_missing_ratio = float('inf')\n",
    "series_id_with_min_missing_ratio = None\n",
    "\n",
    "# check continuous series_id\n",
    "for series_id in all_data_sorted['series_id'].unique():\n",
    "    series_data = all_data_sorted[all_data_sorted['series_id'] == series_id]\n",
    "    series_data = series_data.sort_values(by='step') \n",
    "\n",
    "    # calculate total steps\n",
    "    total_steps = len(series_data)\n",
    "\n",
    "    # find missing steps count\n",
    "    step_diff = series_data['step'].diff() - 1\n",
    "    missing_steps_count = step_diff[step_diff > 0].sum()\n",
    "\n",
    "    # calculate missing ratio\n",
    "    missing_ratio = missing_steps_count / total_steps if total_steps > 0 else 0\n",
    "\n",
    "    # update min_missing_ratio and series_id_with_min_missing_ratio\n",
    "    if missing_ratio < min_missing_ratio:\n",
    "        min_missing_ratio = missing_ratio\n",
    "        series_id_with_min_missing_ratio = series_id\n",
    "\n",
    "print(f\"The series_id with the smallest percentage of total step is {series_id_with_min_missing_ratio},missing ratio is {min_missing_ratio:.2%}\")\n"
   ]
  },
  {
   "cell_type": "code",
   "execution_count": 5,
   "metadata": {},
   "outputs": [
    {
     "data": {
      "text/plain": [
       "1.0    303384\n",
       "0.0    136896\n",
       "Name: event, dtype: int64"
      ]
     },
     "execution_count": 5,
     "metadata": {},
     "output_type": "execute_result"
    }
   ],
   "source": [
    "# Look at when the event column is 0 for data with a series_id of 0\n",
    "all_data_sorted[all_data_sorted['series_id'] == 0]['event'].value_counts()"
   ]
  },
  {
   "cell_type": "code",
   "execution_count": 6,
   "metadata": {},
   "outputs": [
    {
     "data": {
      "text/plain": [
       "440279    440279\n",
       "Name: step, dtype: uint32"
      ]
     },
     "execution_count": 6,
     "metadata": {},
     "output_type": "execute_result"
    }
   ],
   "source": [
    "# Look at when the event column is 1 for data with a series_id of 0\n",
    "all_data_sorted[all_data_sorted['series_id'] == 0].tail(1)['step']"
   ]
  },
  {
   "cell_type": "code",
   "execution_count": 7,
   "metadata": {},
   "outputs": [
    {
     "data": {
      "text/html": [
       "<div>\n",
       "<style scoped>\n",
       "    .dataframe tbody tr th:only-of-type {\n",
       "        vertical-align: middle;\n",
       "    }\n",
       "\n",
       "    .dataframe tbody tr th {\n",
       "        vertical-align: top;\n",
       "    }\n",
       "\n",
       "    .dataframe thead th {\n",
       "        text-align: right;\n",
       "    }\n",
       "</style>\n",
       "<table border=\"1\" class=\"dataframe\">\n",
       "  <thead>\n",
       "    <tr style=\"text-align: right;\">\n",
       "      <th></th>\n",
       "      <th>series_id</th>\n",
       "      <th>step</th>\n",
       "      <th>timestamp</th>\n",
       "      <th>anglez</th>\n",
       "      <th>enmo</th>\n",
       "      <th>hour</th>\n",
       "      <th>event</th>\n",
       "      <th>night</th>\n",
       "      <th>sleep_duration</th>\n",
       "      <th>anglez_diff</th>\n",
       "      <th>...</th>\n",
       "      <th>enmo_rolling_mean</th>\n",
       "      <th>anglez_rolling_max</th>\n",
       "      <th>enmo_rolling_max</th>\n",
       "      <th>anglez_rolling_std</th>\n",
       "      <th>enmo_rolling_std</th>\n",
       "      <th>anglez_diff_rolling_mean</th>\n",
       "      <th>enmo_diff_rolling_mean</th>\n",
       "      <th>anglez_diff_rolling_max</th>\n",
       "      <th>enmo_diff_rolling_max</th>\n",
       "      <th>enmo_rolling_skew</th>\n",
       "    </tr>\n",
       "  </thead>\n",
       "  <tbody>\n",
       "    <tr>\n",
       "      <th>0</th>\n",
       "      <td>0</td>\n",
       "      <td>0</td>\n",
       "      <td>2018-11-05 10:00:00</td>\n",
       "      <td>30.845301</td>\n",
       "      <td>0.0447</td>\n",
       "      <td>10</td>\n",
       "      <td>0.0</td>\n",
       "      <td>1.0</td>\n",
       "      <td>3.333333</td>\n",
       "      <td>-9.125</td>\n",
       "      <td>...</td>\n",
       "      <td>0.074097</td>\n",
       "      <td>34.9375</td>\n",
       "      <td>0.197998</td>\n",
       "      <td>3.712891</td>\n",
       "      <td>0.031433</td>\n",
       "      <td>-9.125</td>\n",
       "      <td>0.017502</td>\n",
       "      <td>-9.125</td>\n",
       "      <td>0.017502</td>\n",
       "      <td>1.876953</td>\n",
       "    </tr>\n",
       "    <tr>\n",
       "      <th>1</th>\n",
       "      <td>0</td>\n",
       "      <td>1</td>\n",
       "      <td>2018-11-05 10:00:05</td>\n",
       "      <td>34.181801</td>\n",
       "      <td>0.0443</td>\n",
       "      <td>10</td>\n",
       "      <td>0.0</td>\n",
       "      <td>1.0</td>\n",
       "      <td>3.333333</td>\n",
       "      <td>-9.125</td>\n",
       "      <td>...</td>\n",
       "      <td>0.074097</td>\n",
       "      <td>34.9375</td>\n",
       "      <td>0.197998</td>\n",
       "      <td>3.712891</td>\n",
       "      <td>0.031433</td>\n",
       "      <td>-9.125</td>\n",
       "      <td>0.017502</td>\n",
       "      <td>-9.125</td>\n",
       "      <td>0.017502</td>\n",
       "      <td>1.876953</td>\n",
       "    </tr>\n",
       "    <tr>\n",
       "      <th>2</th>\n",
       "      <td>0</td>\n",
       "      <td>2</td>\n",
       "      <td>2018-11-05 10:00:10</td>\n",
       "      <td>33.877102</td>\n",
       "      <td>0.0483</td>\n",
       "      <td>10</td>\n",
       "      <td>0.0</td>\n",
       "      <td>1.0</td>\n",
       "      <td>3.333333</td>\n",
       "      <td>-9.125</td>\n",
       "      <td>...</td>\n",
       "      <td>0.074097</td>\n",
       "      <td>34.9375</td>\n",
       "      <td>0.197998</td>\n",
       "      <td>3.712891</td>\n",
       "      <td>0.031433</td>\n",
       "      <td>-9.125</td>\n",
       "      <td>0.017502</td>\n",
       "      <td>-9.125</td>\n",
       "      <td>0.017502</td>\n",
       "      <td>1.876953</td>\n",
       "    </tr>\n",
       "    <tr>\n",
       "      <th>3</th>\n",
       "      <td>0</td>\n",
       "      <td>3</td>\n",
       "      <td>2018-11-05 10:00:15</td>\n",
       "      <td>34.282101</td>\n",
       "      <td>0.0680</td>\n",
       "      <td>10</td>\n",
       "      <td>0.0</td>\n",
       "      <td>1.0</td>\n",
       "      <td>3.333333</td>\n",
       "      <td>-9.125</td>\n",
       "      <td>...</td>\n",
       "      <td>0.074097</td>\n",
       "      <td>34.9375</td>\n",
       "      <td>0.197998</td>\n",
       "      <td>3.712891</td>\n",
       "      <td>0.031433</td>\n",
       "      <td>-9.125</td>\n",
       "      <td>0.017502</td>\n",
       "      <td>-9.125</td>\n",
       "      <td>0.017502</td>\n",
       "      <td>1.876953</td>\n",
       "    </tr>\n",
       "    <tr>\n",
       "      <th>4</th>\n",
       "      <td>0</td>\n",
       "      <td>4</td>\n",
       "      <td>2018-11-05 10:00:20</td>\n",
       "      <td>34.385799</td>\n",
       "      <td>0.0768</td>\n",
       "      <td>10</td>\n",
       "      <td>0.0</td>\n",
       "      <td>1.0</td>\n",
       "      <td>3.333333</td>\n",
       "      <td>-9.125</td>\n",
       "      <td>...</td>\n",
       "      <td>0.074097</td>\n",
       "      <td>34.9375</td>\n",
       "      <td>0.197998</td>\n",
       "      <td>3.712891</td>\n",
       "      <td>0.031433</td>\n",
       "      <td>-9.125</td>\n",
       "      <td>0.017502</td>\n",
       "      <td>-9.125</td>\n",
       "      <td>0.017502</td>\n",
       "      <td>1.876953</td>\n",
       "    </tr>\n",
       "  </tbody>\n",
       "</table>\n",
       "<p>5 rows × 22 columns</p>\n",
       "</div>"
      ],
      "text/plain": [
       "   series_id  step           timestamp     anglez    enmo  hour  event  night  \\\n",
       "0          0     0 2018-11-05 10:00:00  30.845301  0.0447    10    0.0    1.0   \n",
       "1          0     1 2018-11-05 10:00:05  34.181801  0.0443    10    0.0    1.0   \n",
       "2          0     2 2018-11-05 10:00:10  33.877102  0.0483    10    0.0    1.0   \n",
       "3          0     3 2018-11-05 10:00:15  34.282101  0.0680    10    0.0    1.0   \n",
       "4          0     4 2018-11-05 10:00:20  34.385799  0.0768    10    0.0    1.0   \n",
       "\n",
       "   sleep_duration  anglez_diff  ...  enmo_rolling_mean  anglez_rolling_max  \\\n",
       "0        3.333333       -9.125  ...           0.074097             34.9375   \n",
       "1        3.333333       -9.125  ...           0.074097             34.9375   \n",
       "2        3.333333       -9.125  ...           0.074097             34.9375   \n",
       "3        3.333333       -9.125  ...           0.074097             34.9375   \n",
       "4        3.333333       -9.125  ...           0.074097             34.9375   \n",
       "\n",
       "   enmo_rolling_max  anglez_rolling_std  enmo_rolling_std  \\\n",
       "0          0.197998            3.712891          0.031433   \n",
       "1          0.197998            3.712891          0.031433   \n",
       "2          0.197998            3.712891          0.031433   \n",
       "3          0.197998            3.712891          0.031433   \n",
       "4          0.197998            3.712891          0.031433   \n",
       "\n",
       "   anglez_diff_rolling_mean  enmo_diff_rolling_mean  anglez_diff_rolling_max  \\\n",
       "0                    -9.125                0.017502                   -9.125   \n",
       "1                    -9.125                0.017502                   -9.125   \n",
       "2                    -9.125                0.017502                   -9.125   \n",
       "3                    -9.125                0.017502                   -9.125   \n",
       "4                    -9.125                0.017502                   -9.125   \n",
       "\n",
       "   enmo_diff_rolling_max  enmo_rolling_skew  \n",
       "0               0.017502           1.876953  \n",
       "1               0.017502           1.876953  \n",
       "2               0.017502           1.876953  \n",
       "3               0.017502           1.876953  \n",
       "4               0.017502           1.876953  \n",
       "\n",
       "[5 rows x 22 columns]"
      ]
     },
     "execution_count": 7,
     "metadata": {},
     "output_type": "execute_result"
    }
   ],
   "source": [
    "all_data_sorted.head()"
   ]
  },
  {
   "cell_type": "code",
   "execution_count": 8,
   "metadata": {},
   "outputs": [
    {
     "name": "stdout",
     "output_type": "stream",
     "text": [
      "ADF Statistic: -7.620286888674906\n",
      "p-value: 2.1374348425170087e-11\n"
     ]
    }
   ],
   "source": [
    "# Setting the timestamp column as a time series index\n",
    "if 'timestamp' in all_data_sorted.columns:\n",
    "    all_data_sorted = all_data_sorted.set_index('timestamp')\n",
    "\n",
    "# choose series_id = 0 to analyze\n",
    "selected_series_id = all_data_sorted[all_data_sorted['series_id'] == 0]\n",
    "\n",
    "# ADF test to check the stationarity of the data\n",
    "result = adfuller(selected_series_id['event'].dropna())\n",
    "print(f'ADF Statistic: {result[0]}')\n",
    "print(f'p-value: {result[1]}')\n"
   ]
  },
  {
   "cell_type": "markdown",
   "metadata": {},
   "source": [
    "ADF Test: -7.620286888674906 is a negative value and a larger absolute value, so we can reject the null hypothesis with a significance level of 0.05. The data is stationary.\n",
    "\n",
    "p-value: 2.1374348425170087e-11 (p < 0.05) means that the data is stationary.\n"
   ]
  },
  {
   "cell_type": "markdown",
   "metadata": {},
   "source": [
    "Visualization"
   ]
  },
  {
   "cell_type": "code",
   "execution_count": 9,
   "metadata": {},
   "outputs": [
    {
     "data": {
      "image/png": "[encoded data removed]",
      "text/plain": [
       "<Figure size 720x576 with 2 Axes>"
      ]
     },
     "metadata": {
      "needs_background": "light"
     },
     "output_type": "display_data"
    }
   ],
   "source": [
    "# ACF and PACF plots\n",
    "fig, axes = plt.subplots(2, 1, figsize=(10, 8))\n",
    "\n",
    "# ACF plot\n",
    "plot_acf(selected_series_id['event'].dropna(), lags=2000, ax=axes[0])\n",
    "axes[0].set_title('Autocorrelation Function (ACF) with Confidence Intervals')\n",
    "axes[0].xlim = (0, 2)\n",
    "\n",
    "# PACF plot\n",
    "plot_pacf(selected_series_id['event'].dropna(), lags=2000, ax=axes[1])\n",
    "axes[1].set_title('Partial Autocorrelation Function (PACF) with Confidence Intervals')\n",
    "axes[1].xlim = (0, 2)\n",
    "\n",
    "plt.tight_layout()\n",
    "plt.show()"
   ]
  },
  {
   "cell_type": "markdown",
   "metadata": {},
   "source": [
    "The figure shows the ACF and PACF of the data.\n",
    "\n",
    "The ACF value decreases gradually from 1 and at 2000 steps the value is about 0.6. This indicates that there is some degree of autocorrelation in the sequence, but the autocorrelation diminishes as the delay increases.\n",
    "\n",
    "The PACF is 1 at 0, and after that the value is basically around 0, but there is a slightly noticeable bump at about 1500 steps. This usually indicates that there may be a larger order in the AR model."
   ]
  },
  {
   "cell_type": "markdown",
   "metadata": {},
   "source": [
    "ARIMA Model"
   ]
  },
  {
   "cell_type": "code",
   "execution_count": 38,
   "metadata": {},
   "outputs": [],
   "source": [
    "train = selected_series_id[:-60]\n",
    "test = selected_series_id[-60:]"
   ]
  },
  {
   "cell_type": "code",
   "execution_count": 58,
   "metadata": {},
   "outputs": [
    {
     "name": "stdout",
     "output_type": "stream",
     "text": [
      "2018-11-30 21:25:00    0.999919\n",
      "2018-11-30 21:25:05    0.999837\n",
      "2018-11-30 21:25:10    0.999756\n",
      "2018-11-30 21:25:15    0.999674\n",
      "2018-11-30 21:25:20    0.999593\n",
      "                         ...   \n",
      "2018-11-30 21:34:35    0.990696\n",
      "2018-11-30 21:34:40    0.990617\n",
      "2018-11-30 21:34:45    0.990538\n",
      "2018-11-30 21:34:50    0.990460\n",
      "2018-11-30 21:34:55    0.990381\n",
      "Freq: 5S, Name: predicted_mean, Length: 120, dtype: float64\n"
     ]
    }
   ],
   "source": [
    "# train the ARIMA model\n",
    "model = ARIMA(train['event'].dropna(), order=(1, 0, 1))\n",
    "model_fit = model.fit()\n",
    "\n",
    "# predict \n",
    "predictions = model_fit.forecast(steps=120) \n",
    "\n",
    "print(predictions)"
   ]
  },
  {
   "cell_type": "markdown",
   "metadata": {},
   "source": [
    "How to choose p,d and q value?\n",
    "\n",
    "p: The value of p is determined by the PACF diagram. The value of p is the number of significant lags in the PACF diagram. In this case, the value of p is 1.\n",
    "\n",
    "d: The value of d is determined by the number of times the sequence is differentiated to make the sequence stationary. In this case, the value of d is 1.\n",
    "\n",
    "q: The value of q is determined by the ACF diagram. The value of q is the number of significant lags in the ACF diagram. In this case, the value of q is 1. Maybe 2 is better."
   ]
  },
  {
   "cell_type": "code",
   "execution_count": 60,
   "metadata": {},
   "outputs": [
    {
     "data": {
      "image/png": "[encoded data removed]",
      "text/plain": [
       "<Figure size 640x480 with 1 Axes>"
      ]
     },
     "metadata": {},
     "output_type": "display_data"
    }
   ],
   "source": [
    "# plot the prediction\n",
    "plt.plot(train['event'].dropna().tail(10000), label='train')\n",
    "plt.plot(test['event'].dropna(), label='test')\n",
    "plt.plot(predictions, color='red', label='prediction')\n",
    "plt.legend()\n",
    "plt.show()"
   ]
  },
  {
   "cell_type": "code",
   "execution_count": 61,
   "metadata": {},
   "outputs": [
    {
     "name": "stdout",
     "output_type": "stream",
     "text": [
      "Mean Squared Error: 5.488654634373955e-05\n"
     ]
    }
   ],
   "source": [
    "# evaluate the model\n",
    "mse = mean_squared_error(test['event'], predictions[60:])\n",
    "\n",
    "print('Mean Squared Error:', mse)"
   ]
  },
  {
   "cell_type": "markdown",
   "metadata": {},
   "source": [
    "Why we split the data into training and testing?\n",
    "\n",
    "The testing data is the last 12 steps (1min) of the data. And we want to use train data to predict the last 12 steps and the future 12 steps. Then use testing data to compare the prediction with the real data and calculate MSE.\n",
    "\n",
    "And we can see the ARIMA output is slowly decreased. Because the dataset is so large so I only output the 1min future prediction. If the prediction step is larger, the output will be more smooth and finally go to 0 (which means next onset stage). So I think the ARIMA model is suitable for this dataset (based on the MSE), but only seen the output we may think it is not that suitable.\n",
    "\n",
    "\n",
    "Single variable time series prediction: only use past events to predict future events"
   ]
  }
 ],
 "metadata": {
  "kernelspec": {
   "display_name": "Python 3 (ipykernel)",
   "language": "python",
   "name": "python3"
  },
  "language_info": {
   "codemirror_mode": {
    "name": "ipython",
    "version": 3
   },
   "file_extension": ".py",
   "mimetype": "text/x-python",
   "name": "python",
   "nbconvert_exporter": "python",
   "pygments_lexer": "ipython3",
   "version": "3.10.9"
  }
 },
 "nbformat": 4,
 "nbformat_minor": 2
}
